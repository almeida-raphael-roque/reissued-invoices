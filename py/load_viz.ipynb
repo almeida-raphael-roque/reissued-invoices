{
 "cells": [
  {
   "cell_type": "code",
   "execution_count": 1,
   "metadata": {},
   "outputs": [],
   "source": [
    "import xlwings as xw\n",
    "import pandas as pd"
   ]
  },
  {
   "cell_type": "code",
   "execution_count": 2,
   "metadata": {},
   "outputs": [],
   "source": [
    "wb1_path = r\"C:\\Users\\raphael.almeida\\Documents\\Processos\\boletos_reemitidos\\boletos_reemitidos.xlsx\"\n",
    "wb1 = xw.Book(wb1_path)\n",
    "\n",
    "ws1 = wb1.sheets['boletos_reemitidos_pagos']\n",
    "                 \n",
    "intervalo = ws1.range('A1').expand()\n",
    "\n",
    "dados = intervalo.value\n",
    "\n",
    "\n"
   ]
  },
  {
   "cell_type": "code",
   "execution_count": 3,
   "metadata": {},
   "outputs": [],
   "source": [
    "wb2_path = r\"C:\\Users\\raphael.almeida\\Documents\\Processos\\boletos_reemitidos\\Boletos Reemitidos Pagos.xlsx\"\n",
    "wb2 = xw.Book(wb2_path)\n",
    "ws2 = wb2.sheets['BASE']\n",
    "\n",
    "ws2.clear_contents()\n",
    "\n",
    "ws2.range('A1').value = dados\n",
    "\n",
    "ws3 = wb2.sheets['Boletos Reemitidos Pagos']\n"
   ]
  },
  {
   "cell_type": "code",
   "execution_count": 4,
   "metadata": {},
   "outputs": [
    {
     "data": {
      "text/plain": [
       "Timestamp('2025-07-01 00:00:00')"
      ]
     },
     "execution_count": 4,
     "metadata": {},
     "output_type": "execute_result"
    }
   ],
   "source": [
    "\n",
    "#atualizando datas\n",
    "\n",
    "today = pd.Timestamp.today().normalize()\n",
    "day_offset_1 = today - pd.Timedelta(days=1)\n",
    "day_offset_2 = today - pd.Timedelta(days=2)\n",
    "day_offset_3 = today - pd.Timedelta(days=3)\n",
    "day_offset_4 = today - pd.Timedelta(days=4)\n",
    "\n",
    "today\n",
    "\n"
   ]
  },
  {
   "cell_type": "code",
   "execution_count": 5,
   "metadata": {},
   "outputs": [],
   "source": [
    "\n",
    "ws3.range('E2').value = day_offset_4.date()\n",
    "ws3.range('H2').value = day_offset_3.date()\n",
    "ws3.range('K2').value = day_offset_2.date()\n",
    "ws3.range('N2').value = day_offset_1.date()"
   ]
  },
  {
   "cell_type": "code",
   "execution_count": 6,
   "metadata": {},
   "outputs": [],
   "source": [
    "\n",
    "#atualizando células de pagamento\n",
    "base_values = ws2.range('A1').expand().value\n"
   ]
  },
  {
   "cell_type": "code",
   "execution_count": 7,
   "metadata": {},
   "outputs": [],
   "source": [
    "\n",
    "# Ajuste: usar a primeira linha como cabeçalho\n",
    "if base_values:\n",
    "    df = pd.DataFrame(base_values[1:], columns=base_values[0])\n",
    "else:\n",
    "    df = pd.DataFrame()\n"
   ]
  },
  {
   "cell_type": "markdown",
   "metadata": {},
   "source": [
    "criando manualmente: listas"
   ]
  },
  {
   "cell_type": "code",
   "execution_count": 8,
   "metadata": {},
   "outputs": [],
   "source": [
    "listas_ponteiros_4 = df.loc[df['data_reemissao'] == day_offset_4, 'ponteiro'].tolist()\n",
    "listas_ponteiros_3 = df.loc[df['data_reemissao'] == day_offset_3, 'ponteiro'].tolist()\n",
    "listas_ponteiros_2 = df.loc[df['data_reemissao'] == day_offset_2, 'ponteiro'].tolist()\n",
    "listas_ponteiros_1 = df.loc[df['data_reemissao'] == day_offset_1, 'ponteiro'].tolist()"
   ]
  },
  {
   "cell_type": "markdown",
   "metadata": {},
   "source": [
    "criando automaticamente: celulas pagamento"
   ]
  },
  {
   "cell_type": "code",
   "execution_count": 9,
   "metadata": {},
   "outputs": [
    {
     "data": {
      "text/plain": [
       "{('Segtruck', 1): np.float64(0.0),\n",
       " ('Stcoop', 1): np.float64(0.0),\n",
       " ('Viavante', 1): np.float64(0.0),\n",
       " ('Segtruck', 2): np.float64(0.0),\n",
       " ('Stcoop', 2): np.float64(0.0),\n",
       " ('Viavante', 2): np.float64(0.0),\n",
       " ('Segtruck', 3): np.float64(0.0),\n",
       " ('Stcoop', 3): np.float64(0.0),\n",
       " ('Viavante', 3): np.float64(0.0),\n",
       " ('Segtruck', 4): np.float64(4288.92),\n",
       " ('Stcoop', 4): np.float64(11193.61),\n",
       " ('Viavante', 4): np.float64(130436.24)}"
      ]
     },
     "execution_count": 9,
     "metadata": {},
     "output_type": "execute_result"
    }
   ],
   "source": [
    "\n",
    "def calcular_pagamentos_4dias_3empresas(df, listas_ponteiros, empresas):\n",
    "    \"\"\"\n",
    "    Calcula o total de pagamentos para cada empresa ao longo das 4 listas de ponteiros.\n",
    "\n",
    "    Args:\n",
    "        df (pd.DataFrame): DataFrame com os dados.\n",
    "        listas_ponteiros (list): Lista de listas de ponteiros (ex: [listas_ponteiros_1, ..., listas_ponteiros_4]).\n",
    "        empresas (list): Lista com os nomes das empresas.\n",
    "\n",
    "    Returns:\n",
    "        dict: {(empresa, idx_lista): soma_pagamentos}\n",
    "    \"\"\"\n",
    "    resultados = {}\n",
    "    for idx, ponteiros in enumerate(listas_ponteiros, 1):\n",
    "        for empresa in empresas:\n",
    "            soma = df.loc[\n",
    "                (df['ponteiro'].isin(ponteiros)) &\n",
    "                (df['empresa'] == empresa),\n",
    "                'valor_baixa'\n",
    "            ].sum()\n",
    "            resultados[(empresa, idx)] = soma\n",
    "    return resultados\n",
    "\n",
    "# Exemplo de uso:\n",
    "listas_ponteiros = [listas_ponteiros_1, listas_ponteiros_2, listas_ponteiros_3, listas_ponteiros_4]\n",
    "empresas = ['Segtruck', 'Stcoop', 'Viavante']\n",
    "pagamentos = calcular_pagamentos_4dias_3empresas(df, listas_ponteiros, empresas)\n",
    "pagamentos\n"
   ]
  },
  {
   "cell_type": "markdown",
   "metadata": {},
   "source": [
    "teste automático"
   ]
  },
  {
   "cell_type": "code",
   "execution_count": 10,
   "metadata": {},
   "outputs": [],
   "source": [
    "\n",
    "# Mapeamento de colunas e linhas para cada empresa e dia, seguindo a ordem das variáveis acima\n",
    "colunas = ['F', 'I', 'L', 'O']  # F: offset 4, H: offset 3, J: offset 2, L: offset 1\n",
    "linhas = {'Segtruck': 4, 'Stcoop': 5, 'Viavante': 6}\n",
    "empresas = ['Segtruck', 'Stcoop', 'Viavante']  # ordem das empresas conforme célula acima\n",
    "\n",
    "# Preencher os valores na ordem correta: para cada coluna (dia), para cada empresa (linha)\n",
    "# Agora, F6/F7/F8 recebe lista 4, H6/H7/H8 recebe lista 3, J6/J7/J8 recebe lista 2, L6/L7/L8 recebe lista 1\n",
    "for idx_col, coluna in enumerate(colunas):\n",
    "    idx_lista = 4 - idx_col  # Inverte a ordem: colunas[0] -> lista 4, colunas[1] -> lista 3, etc.\n",
    "    for empresa in empresas:\n",
    "        valor = pagamentos.get((empresa, idx_lista), 0)\n",
    "        linha = linhas[empresa]\n",
    "        ws3.range(f'{coluna}{linha}').value = valor\n",
    "\n",
    "\n"
   ]
  }
 ],
 "metadata": {
  "kernelspec": {
   "display_name": "env2",
   "language": "python",
   "name": "python3"
  },
  "language_info": {
   "codemirror_mode": {
    "name": "ipython",
    "version": 3
   },
   "file_extension": ".py",
   "mimetype": "text/x-python",
   "name": "python",
   "nbconvert_exporter": "python",
   "pygments_lexer": "ipython3",
   "version": "3.12.4"
  }
 },
 "nbformat": 4,
 "nbformat_minor": 2
}
