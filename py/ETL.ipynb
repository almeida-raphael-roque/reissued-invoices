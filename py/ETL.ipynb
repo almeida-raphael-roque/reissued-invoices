{
 "cells": [
  {
   "cell_type": "code",
   "execution_count": 69,
   "metadata": {},
   "outputs": [],
   "source": [
    "import pandas as pd\n",
    "import awswrangler as awr\n",
    "import openpyxl\n",
    "import os"
   ]
  },
  {
   "cell_type": "code",
   "execution_count": 70,
   "metadata": {},
   "outputs": [],
   "source": [
    "query_path = r\"C:\\Users\\raphael.almeida\\Documents\\Projetos\\Boletos Reemitidos\\sql\\reissued_invoices.sql\"\n",
    "with open (query_path, 'r') as file:\n",
    "    query=file.read()\n",
    "\n",
    "df_reemitidos = awr.athena.read_sql_query(query,database='silver')\n",
    "df_reemitidos.drop_duplicates(subset='ponteiro', inplace=True)"
   ]
  },
  {
   "cell_type": "markdown",
   "metadata": {},
   "source": [
    "gerando lista e acrescentando colunas"
   ]
  },
  {
   "cell_type": "code",
   "execution_count": 71,
   "metadata": {},
   "outputs": [],
   "source": [
    "lista_reemitidos = df_reemitidos['ponteiro'].to_list()\n",
    "\n",
    "df_reemitidos['data_baixa'] = pd.NA\n",
    "df_reemitidos['valor_baixa'] = pd.NA\n",
    "df_reemitidos['situacao'] = 'REEMITIDO'"
   ]
  },
  {
   "cell_type": "code",
   "execution_count": 72,
   "metadata": {},
   "outputs": [],
   "source": [
    "query_path = r\"C:\\Users\\raphael.almeida\\Documents\\Projetos\\Boletos Reemitidos\\sql\\paid_invoices.sql\"\n",
    "with open (query_path, 'r') as file:\n",
    "    query=file.read()\n",
    "\n",
    "df_pagos = awr.athena.read_sql_query(query,database='silver')\n",
    "df_pagos.drop_duplicates(subset='ponteiro', inplace=True)"
   ]
  },
  {
   "cell_type": "markdown",
   "metadata": {},
   "source": [
    "acrescentando colunas e filtrando por ponteiros reemitidos"
   ]
  },
  {
   "cell_type": "code",
   "execution_count": 73,
   "metadata": {},
   "outputs": [],
   "source": [
    "df_pagos['data_reemissao'] = pd.NA\n",
    "df_pagos['situacao'] = 'PAGO'\n",
    "df_reemitidos_pagos = df_pagos[df_pagos['ponteiro'].isin(lista_reemitidos)]"
   ]
  },
  {
   "cell_type": "markdown",
   "metadata": {},
   "source": [
    "concatenando"
   ]
  },
  {
   "cell_type": "code",
   "execution_count": 74,
   "metadata": {},
   "outputs": [
    {
     "name": "stderr",
     "output_type": "stream",
     "text": [
      "C:\\Users\\raphael.almeida\\AppData\\Local\\Temp\\ipykernel_28876\\4118452813.py:1: FutureWarning: The behavior of DataFrame concatenation with empty or all-NA entries is deprecated. In a future version, this will no longer exclude empty or all-NA columns when determining the result dtypes. To retain the old behavior, exclude the relevant entries before the concat operation.\n",
      "  df_final = pd.concat([df_reemitidos_pagos, df_reemitidos])\n"
     ]
    }
   ],
   "source": [
    "df_final = pd.concat([df_reemitidos_pagos, df_reemitidos])"
   ]
  },
  {
   "cell_type": "markdown",
   "metadata": {},
   "source": [
    "reorganizando colunas"
   ]
  },
  {
   "cell_type": "code",
   "execution_count": 75,
   "metadata": {},
   "outputs": [],
   "source": [
    "\n",
    "colunas_ordenadas = [\n",
    "    'codigo_cadastro',\n",
    "    'ponteiro',\n",
    "    'numero_documento',\n",
    "    'numero_boleto',\n",
    "    'nosso_numero',\n",
    "    'sequencia_documento',\n",
    "    'aplicacao_financeira',\n",
    "    'valor_titulo',\n",
    "    'valor_baixa',\n",
    "    'situacao',\n",
    "    'data_emissao',\n",
    "    'data_reemissao',\n",
    "    'data_baixa',\n",
    "    'data_vencimento',\n",
    "    'conjunto',\n",
    "    'matricula',\n",
    "    'unidade',\n",
    "    'empresa',\n",
    "    'associado',\n",
    "    'vendedor',\n",
    "    'grupo'\n",
    "]\n",
    "\n",
    "df_final = df_final[colunas_ordenadas]"
   ]
  },
  {
   "cell_type": "code",
   "execution_count": 76,
   "metadata": {},
   "outputs": [
    {
     "data": {
      "text/plain": [
       "Index(['codigo_cadastro', 'ponteiro', 'numero_documento', 'numero_boleto',\n",
       "       'nosso_numero', 'sequencia_documento', 'aplicacao_financeira',\n",
       "       'valor_titulo', 'valor_baixa', 'situacao', 'data_emissao',\n",
       "       'data_reemissao', 'data_baixa', 'data_vencimento', 'conjunto',\n",
       "       'matricula', 'unidade', 'empresa', 'associado', 'vendedor', 'grupo'],\n",
       "      dtype='object')"
      ]
     },
     "execution_count": 76,
     "metadata": {},
     "output_type": "execute_result"
    }
   ],
   "source": [
    "df_final.columns"
   ]
  },
  {
   "cell_type": "markdown",
   "metadata": {},
   "source": [
    "tratando nulos"
   ]
  },
  {
   "cell_type": "code",
   "execution_count": 77,
   "metadata": {},
   "outputs": [],
   "source": [
    "df_final = df_final.sort_values(by=['ponteiro','data_reemissao'], ascending=False)\n",
    "\n",
    "df_final['conjunto'] = df_final['conjunto'].astype(str)\n",
    "df_final['matricula'] = df_final['matricula'].astype(str)\n",
    "df_final['unidade'] = df_final['unidade'].astype(str)\n",
    "df_final['numero_boleto'] = df_final['numero_boleto'].astype(str)\n",
    "df_final['nosso_numero'] = df_final['nosso_numero'].astype(str)\n",
    "\n",
    "\n",
    "df_final['valor_baixa'] = df_final['valor_baixa'].fillna(0)\n",
    "df_final['data_baixa'] = df_final['data_baixa'].fillna(pd.Timestamp('1900-01-01').date())\n",
    "df_final['conjunto'] = df_final['conjunto'].fillna('NULL')\n",
    "df_final['matricula'] = df_final['matricula'].fillna('NULL')\n",
    "df_final['unidade'] = df_final['unidade'].fillna('NULL')\n",
    "df_final['data_reemissao'] = df_final['data_reemissao'].fillna(pd.Timestamp('1900-01-01').date())\n",
    "df_final['numero_boleto'] = df_final['numero_boleto'].fillna('NULL')\n",
    "df_final['nosso_numero'] = df_final['nosso_numero'].fillna('NULL')\n",
    "\n"
   ]
  },
  {
   "cell_type": "markdown",
   "metadata": {},
   "source": [
    "passando pro excel"
   ]
  },
  {
   "cell_type": "code",
   "execution_count": 78,
   "metadata": {},
   "outputs": [],
   "source": [
    "today = pd.Timestamp.today().date()\n",
    "today_format = today.strftime('%Y%m%d')"
   ]
  },
  {
   "cell_type": "code",
   "execution_count": 79,
   "metadata": {},
   "outputs": [],
   "source": [
    "save_path_new = r\"C:\\Users\\raphael.almeida\\Documents\\Projetos\\Boletos Reemitidos\"\n",
    "save_path_cache = r\"C:\\Users\\raphael.almeida\\Documents\\Projetos\\Boletos Reemitidos\\cache\"\n",
    "\n",
    "arquivo_new = os.path.join(save_path_new, 'boletos_reemitidos.xlsx')\n",
    "arquivo_cache = os.path.join(save_path_cache, f'boletos_reemitidos_{today_format}.xlsx')\n",
    "\n",
    "df_final.to_excel(arquivo_new, engine='openpyxl', index=False, sheet_name='boletos_reemitidos_pagos')\n",
    "df_final.to_excel(arquivo_cache, engine='openpyxl', index=False, sheet_name='boletos_reemitidos_pagos')"
   ]
  },
  {
   "cell_type": "markdown",
   "metadata": {},
   "source": [
    "passando para o excel de visualização"
   ]
  },
  {
   "cell_type": "code",
   "execution_count": 84,
   "metadata": {},
   "outputs": [],
   "source": [
    "!pip3 install xlwings\n",
    "\n"
   ]
  },
  {
   "cell_type": "code",
   "execution_count": 85,
   "metadata": {},
   "outputs": [
    {
     "ename": "ModuleNotFoundError",
     "evalue": "No module named 'xlwings'",
     "output_type": "error",
     "traceback": [
      "\u001b[1;31m---------------------------------------------------------------------------\u001b[0m",
      "\u001b[1;31mModuleNotFoundError\u001b[0m                       Traceback (most recent call last)",
      "Cell \u001b[1;32mIn[85], line 1\u001b[0m\n\u001b[1;32m----> 1\u001b[0m \u001b[38;5;28;01mimport\u001b[39;00m \u001b[38;5;21;01mxlwings\u001b[39;00m\n",
      "\u001b[1;31mModuleNotFoundError\u001b[0m: No module named 'xlwings'"
     ]
    }
   ],
   "source": [
    "import xlwings\n"
   ]
  }
 ],
 "metadata": {
  "kernelspec": {
   "display_name": "env",
   "language": "python",
   "name": "python3"
  },
  "language_info": {
   "codemirror_mode": {
    "name": "ipython",
    "version": 3
   },
   "file_extension": ".py",
   "mimetype": "text/x-python",
   "name": "python",
   "nbconvert_exporter": "python",
   "pygments_lexer": "ipython3",
   "version": "3.12.4"
  }
 },
 "nbformat": 4,
 "nbformat_minor": 2
}
